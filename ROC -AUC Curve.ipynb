{
 "cells": [
  {
   "cell_type": "code",
   "execution_count": 1,
   "metadata": {},
   "outputs": [],
   "source": [
    "import pandas as pd\n",
    "import numpy as np\n",
    "from sklearn.linear_model import LogisticRegression"
   ]
  },
  {
   "cell_type": "code",
   "execution_count": 2,
   "metadata": {},
   "outputs": [],
   "source": [
    "A = pd.read_csv(\"C:/Users/Baccchi/Downloads/Credit.csv\")"
   ]
  },
  {
   "cell_type": "code",
   "execution_count": 3,
   "metadata": {},
   "outputs": [],
   "source": [
    "cat = []\n",
    "con = []\n",
    "for i in A.columns:\n",
    "    if(A[i].dtypes==\"object\"):\n",
    "        cat.append(i)\n",
    "    else:\n",
    "        con.append(i)"
   ]
  },
  {
   "cell_type": "code",
   "execution_count": 4,
   "metadata": {},
   "outputs": [],
   "source": [
    "cat.remove(\"Student\")"
   ]
  },
  {
   "cell_type": "code",
   "execution_count": 5,
   "metadata": {},
   "outputs": [],
   "source": [
    "B = A[con].join(pd.get_dummies(A[cat]))"
   ]
  },
  {
   "cell_type": "code",
   "execution_count": 6,
   "metadata": {},
   "outputs": [],
   "source": [
    "B = B.drop(labels=[\"Unnamed: 0\",\"ID\"],axis=1)"
   ]
  },
  {
   "cell_type": "code",
   "execution_count": 7,
   "metadata": {},
   "outputs": [
    {
     "data": {
      "text/html": [
       "<div>\n",
       "<style scoped>\n",
       "    .dataframe tbody tr th:only-of-type {\n",
       "        vertical-align: middle;\n",
       "    }\n",
       "\n",
       "    .dataframe tbody tr th {\n",
       "        vertical-align: top;\n",
       "    }\n",
       "\n",
       "    .dataframe thead th {\n",
       "        text-align: right;\n",
       "    }\n",
       "</style>\n",
       "<table border=\"1\" class=\"dataframe\">\n",
       "  <thead>\n",
       "    <tr style=\"text-align: right;\">\n",
       "      <th></th>\n",
       "      <th>Income</th>\n",
       "      <th>Limit</th>\n",
       "      <th>Rating</th>\n",
       "      <th>Cards</th>\n",
       "      <th>Age</th>\n",
       "      <th>Education</th>\n",
       "      <th>Balance</th>\n",
       "      <th>Gender_ Male</th>\n",
       "      <th>Gender_Female</th>\n",
       "      <th>Married_No</th>\n",
       "      <th>Married_Yes</th>\n",
       "      <th>Ethnicity_African American</th>\n",
       "      <th>Ethnicity_Asian</th>\n",
       "      <th>Ethnicity_Caucasian</th>\n",
       "    </tr>\n",
       "  </thead>\n",
       "  <tbody>\n",
       "    <tr>\n",
       "      <th>0</th>\n",
       "      <td>14.891</td>\n",
       "      <td>3606</td>\n",
       "      <td>283</td>\n",
       "      <td>2</td>\n",
       "      <td>34</td>\n",
       "      <td>11</td>\n",
       "      <td>333</td>\n",
       "      <td>1</td>\n",
       "      <td>0</td>\n",
       "      <td>0</td>\n",
       "      <td>1</td>\n",
       "      <td>0</td>\n",
       "      <td>0</td>\n",
       "      <td>1</td>\n",
       "    </tr>\n",
       "    <tr>\n",
       "      <th>1</th>\n",
       "      <td>106.025</td>\n",
       "      <td>6645</td>\n",
       "      <td>483</td>\n",
       "      <td>3</td>\n",
       "      <td>82</td>\n",
       "      <td>15</td>\n",
       "      <td>903</td>\n",
       "      <td>0</td>\n",
       "      <td>1</td>\n",
       "      <td>0</td>\n",
       "      <td>1</td>\n",
       "      <td>0</td>\n",
       "      <td>1</td>\n",
       "      <td>0</td>\n",
       "    </tr>\n",
       "    <tr>\n",
       "      <th>2</th>\n",
       "      <td>104.593</td>\n",
       "      <td>7075</td>\n",
       "      <td>514</td>\n",
       "      <td>4</td>\n",
       "      <td>71</td>\n",
       "      <td>11</td>\n",
       "      <td>580</td>\n",
       "      <td>1</td>\n",
       "      <td>0</td>\n",
       "      <td>1</td>\n",
       "      <td>0</td>\n",
       "      <td>0</td>\n",
       "      <td>1</td>\n",
       "      <td>0</td>\n",
       "    </tr>\n",
       "  </tbody>\n",
       "</table>\n",
       "</div>"
      ],
      "text/plain": [
       "    Income  Limit  Rating  Cards  Age  Education  Balance  Gender_ Male  \\\n",
       "0   14.891   3606     283      2   34         11      333             1   \n",
       "1  106.025   6645     483      3   82         15      903             0   \n",
       "2  104.593   7075     514      4   71         11      580             1   \n",
       "\n",
       "   Gender_Female  Married_No  Married_Yes  Ethnicity_African American  \\\n",
       "0              0           0            1                           0   \n",
       "1              1           0            1                           0   \n",
       "2              0           1            0                           0   \n",
       "\n",
       "   Ethnicity_Asian  Ethnicity_Caucasian  \n",
       "0                0                    1  \n",
       "1                1                    0  \n",
       "2                1                    0  "
      ]
     },
     "execution_count": 7,
     "metadata": {},
     "output_type": "execute_result"
    }
   ],
   "source": [
    "B.head(3)"
   ]
  },
  {
   "cell_type": "code",
   "execution_count": 8,
   "metadata": {},
   "outputs": [],
   "source": [
    "from sklearn.preprocessing import LabelEncoder\n",
    "le = LabelEncoder()\n",
    "A.Student = le.fit_transform(A.Student)"
   ]
  },
  {
   "cell_type": "code",
   "execution_count": 9,
   "metadata": {},
   "outputs": [],
   "source": [
    "from sklearn.model_selection import train_test_split\n",
    "X = B\n",
    "Y = A[[\"Student\"]]\n",
    "xtrain,xtest,ytrain,ytest = train_test_split(X, Y, test_size = .20, random_state = 20)"
   ]
  },
  {
   "cell_type": "code",
   "execution_count": 10,
   "metadata": {},
   "outputs": [
    {
     "name": "stderr",
     "output_type": "stream",
     "text": [
      "C:\\Users\\Baccchi\\anaconda3\\envs\\Machine_Learning_Class\\lib\\site-packages\\sklearn\\utils\\validation.py:63: DataConversionWarning: A column-vector y was passed when a 1d array was expected. Please change the shape of y to (n_samples, ), for example using ravel().\n",
      "  return f(*args, **kwargs)\n",
      "C:\\Users\\Baccchi\\anaconda3\\envs\\Machine_Learning_Class\\lib\\site-packages\\sklearn\\linear_model\\_logistic.py:763: ConvergenceWarning: lbfgs failed to converge (status=1):\n",
      "STOP: TOTAL NO. of ITERATIONS REACHED LIMIT.\n",
      "\n",
      "Increase the number of iterations (max_iter) or scale the data as shown in:\n",
      "    https://scikit-learn.org/stable/modules/preprocessing.html\n",
      "Please also refer to the documentation for alternative solver options:\n",
      "    https://scikit-learn.org/stable/modules/linear_model.html#logistic-regression\n",
      "  n_iter_i = _check_optimize_result(\n"
     ]
    }
   ],
   "source": [
    "lr = LogisticRegression()\n",
    "model = lr.fit(xtrain,ytrain)\n",
    "predicted = model.predict(xtest)"
   ]
  },
  {
   "cell_type": "code",
   "execution_count": 11,
   "metadata": {},
   "outputs": [
    {
     "data": {
      "text/plain": [
       "array([[69,  1],\n",
       "       [ 0, 10]], dtype=int64)"
      ]
     },
     "execution_count": 11,
     "metadata": {},
     "output_type": "execute_result"
    }
   ],
   "source": [
    "from sklearn.metrics import confusion_matrix\n",
    "confusion_matrix(ytest,predicted)"
   ]
  },
  {
   "cell_type": "code",
   "execution_count": 12,
   "metadata": {},
   "outputs": [
    {
     "data": {
      "text/plain": [
       "array([0, 1, 0, 0, 1, 0, 0, 0, 0, 0, 0, 0, 0, 0, 1, 0, 0, 0, 0, 0, 1, 0,\n",
       "       0, 0, 0, 0, 0, 1, 0, 0, 0, 0, 0, 0, 0, 0, 1, 0, 0, 0, 1, 0, 0, 0,\n",
       "       0, 0, 0, 0, 1, 1, 0, 0, 0, 1, 0, 0, 0, 0, 0, 0, 0, 0, 0, 0, 0, 0,\n",
       "       0, 0, 0, 0, 0, 0, 0, 0, 0, 0, 0, 0, 1, 0])"
      ]
     },
     "execution_count": 12,
     "metadata": {},
     "output_type": "execute_result"
    }
   ],
   "source": [
    "predicted"
   ]
  },
  {
   "cell_type": "code",
   "execution_count": 13,
   "metadata": {},
   "outputs": [
    {
     "data": {
      "text/plain": [
       "array([[9.83040777e-01, 1.69592230e-02],\n",
       "       [1.54098956e-13, 1.00000000e+00],\n",
       "       [9.99999999e-01, 1.12474272e-09],\n",
       "       [1.00000000e+00, 1.18069001e-15],\n",
       "       [1.64560150e-07, 9.99999835e-01],\n",
       "       [1.00000000e+00, 2.64635726e-14],\n",
       "       [9.99999990e-01, 9.69062247e-09],\n",
       "       [1.00000000e+00, 7.81084183e-12],\n",
       "       [1.00000000e+00, 1.91278599e-12],\n",
       "       [1.00000000e+00, 1.61101018e-13],\n",
       "       [1.00000000e+00, 1.40895775e-14],\n",
       "       [1.00000000e+00, 2.80054537e-10],\n",
       "       [9.99999994e-01, 5.91655794e-09],\n",
       "       [9.99991041e-01, 8.95921297e-06],\n",
       "       [2.22044605e-16, 1.00000000e+00],\n",
       "       [1.00000000e+00, 1.82682038e-14],\n",
       "       [1.00000000e+00, 5.87369699e-19],\n",
       "       [1.00000000e+00, 5.85097547e-14],\n",
       "       [1.00000000e+00, 3.39779364e-10],\n",
       "       [9.99999760e-01, 2.40168892e-07],\n",
       "       [1.99840144e-15, 1.00000000e+00],\n",
       "       [1.00000000e+00, 2.13588179e-20],\n",
       "       [1.00000000e+00, 5.73407374e-17],\n",
       "       [1.00000000e+00, 4.07910806e-17],\n",
       "       [1.00000000e+00, 1.92154934e-11],\n",
       "       [1.00000000e+00, 9.41231080e-13],\n",
       "       [1.00000000e+00, 4.39019019e-14],\n",
       "       [2.46848292e-03, 9.97531517e-01],\n",
       "       [9.99999997e-01, 3.01918279e-09],\n",
       "       [1.00000000e+00, 8.24425830e-18],\n",
       "       [9.99966751e-01, 3.32491875e-05],\n",
       "       [1.00000000e+00, 1.11034829e-12],\n",
       "       [1.00000000e+00, 5.65741221e-15],\n",
       "       [8.83631317e-01, 1.16368683e-01],\n",
       "       [1.00000000e+00, 3.74660279e-12],\n",
       "       [1.00000000e+00, 6.48921758e-15],\n",
       "       [7.38336059e-10, 9.99999999e-01],\n",
       "       [1.00000000e+00, 3.02748596e-17],\n",
       "       [1.00000000e+00, 5.81223930e-12],\n",
       "       [1.00000000e+00, 2.13110215e-11],\n",
       "       [2.88969027e-03, 9.97110310e-01],\n",
       "       [1.00000000e+00, 7.09001119e-17],\n",
       "       [1.00000000e+00, 1.18666741e-10],\n",
       "       [9.99999799e-01, 2.01367482e-07],\n",
       "       [1.00000000e+00, 3.27836107e-12],\n",
       "       [9.99999869e-01, 1.31407870e-07],\n",
       "       [1.00000000e+00, 7.17502303e-19],\n",
       "       [1.00000000e+00, 1.92270430e-15],\n",
       "       [0.00000000e+00, 1.00000000e+00],\n",
       "       [4.86531848e-03, 9.95134682e-01],\n",
       "       [1.00000000e+00, 3.91520050e-17],\n",
       "       [1.00000000e+00, 7.15307638e-16],\n",
       "       [1.00000000e+00, 1.19948550e-11],\n",
       "       [4.25466329e-11, 1.00000000e+00],\n",
       "       [1.00000000e+00, 1.06657775e-13],\n",
       "       [9.99997595e-01, 2.40506725e-06],\n",
       "       [1.00000000e+00, 1.46261977e-17],\n",
       "       [1.00000000e+00, 1.23510776e-17],\n",
       "       [1.00000000e+00, 3.55268674e-17],\n",
       "       [9.99926119e-01, 7.38812508e-05],\n",
       "       [9.99999985e-01, 1.49872184e-08],\n",
       "       [1.00000000e+00, 2.04014583e-15],\n",
       "       [9.99999958e-01, 4.19901229e-08],\n",
       "       [9.99991145e-01, 8.85480072e-06],\n",
       "       [1.00000000e+00, 4.67829267e-15],\n",
       "       [1.00000000e+00, 9.49768188e-21],\n",
       "       [1.00000000e+00, 2.22905265e-17],\n",
       "       [9.99981633e-01, 1.83666578e-05],\n",
       "       [1.00000000e+00, 3.64238755e-17],\n",
       "       [9.99999807e-01, 1.92969372e-07],\n",
       "       [9.99359497e-01, 6.40503054e-04],\n",
       "       [1.00000000e+00, 9.79954583e-18],\n",
       "       [7.89733554e-01, 2.10266446e-01],\n",
       "       [1.00000000e+00, 3.94677305e-17],\n",
       "       [1.00000000e+00, 8.52338673e-12],\n",
       "       [9.99999476e-01, 5.23737527e-07],\n",
       "       [1.00000000e+00, 1.97477605e-12],\n",
       "       [1.00000000e+00, 3.34231463e-10],\n",
       "       [3.69237085e-10, 1.00000000e+00],\n",
       "       [9.99999104e-01, 8.95890858e-07]])"
      ]
     },
     "execution_count": 13,
     "metadata": {},
     "output_type": "execute_result"
    }
   ],
   "source": [
    "lr.predict_proba(xtest)"
   ]
  },
  {
   "cell_type": "code",
   "execution_count": 14,
   "metadata": {},
   "outputs": [
    {
     "data": {
      "text/plain": [
       "0.9875"
      ]
     },
     "execution_count": 14,
     "metadata": {},
     "output_type": "execute_result"
    }
   ],
   "source": [
    "import sklearn.metrics as m\n",
    "m.accuracy_score(ytest,predicted)"
   ]
  },
  {
   "cell_type": "code",
   "execution_count": 15,
   "metadata": {},
   "outputs": [
    {
     "data": {
      "text/plain": [
       "[<matplotlib.lines.Line2D at 0x19861253070>,\n",
       " <matplotlib.lines.Line2D at 0x19861253130>]"
      ]
     },
     "execution_count": 15,
     "metadata": {},
     "output_type": "execute_result"
    },
    {
     "data": {
      "image/png": "[encoded data removed]",
      "text/plain": [
       "<Figure size 432x288 with 1 Axes>"
      ]
     },
     "metadata": {
      "needs_background": "light"
     },
     "output_type": "display_data"
    }
   ],
   "source": [
    "import sklearn.metrics as m\n",
    "# calculate the fpr and tpr for all thresholds of the classification\n",
    "probs = lr.predict_proba(xtest)\n",
    "preds = probs[:,1]\n",
    "fpr, tpr, threshold = m.roc_curve(ytest, preds)\n",
    "roc_auc = m.auc(fpr, tpr)\n",
    "\n",
    "import matplotlib.pyplot as plt \n",
    "plt.plot(fpr, tpr, roc_auc)"
   ]
  },
  {
   "cell_type": "code",
   "execution_count": null,
   "metadata": {},
   "outputs": [],
   "source": []
  }
 ],
 "metadata": {
  "kernelspec": {
   "display_name": "Python 3",
   "language": "python",
   "name": "python3"
  },
  "language_info": {
   "codemirror_mode": {
    "name": "ipython",
    "version": 3
   },
   "file_extension": ".py",
   "mimetype": "text/x-python",
   "name": "python",
   "nbconvert_exporter": "python",
   "pygments_lexer": "ipython3",
   "version": "3.8.5"
  }
 },
 "nbformat": 4,
 "nbformat_minor": 4
}
